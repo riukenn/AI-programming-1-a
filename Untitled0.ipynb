{
  "nbformat": 4,
  "nbformat_minor": 0,
  "metadata": {
    "colab": {
      "name": "Untitled0.ipynb",
      "provenance": [],
      "collapsed_sections": []
    },
    "kernelspec": {
      "name": "python3",
      "display_name": "Python 3"
    }
  },
  "cells": [
    {
      "cell_type": "code",
      "metadata": {
        "id": "xr2LZ2W2pVJ3",
        "colab_type": "code",
        "colab": {}
      },
      "source": [
        ""
      ],
      "execution_count": 0,
      "outputs": []
    },
    {
      "cell_type": "markdown",
      "metadata": {
        "id": "VvxKyHpYpt2V",
        "colab_type": "text"
      },
      "source": [
        "#初めてのノートプック\n",
        "**コード書きましょう**\n"
      ]
    },
    {
      "cell_type": "code",
      "metadata": {
        "id": "fW3yD6DyrJNY",
        "colab_type": "code",
        "outputId": "92a355b9-f21a-4981-efcb-92ceb8403ae4",
        "colab": {
          "base_uri": "https://localhost:8080/",
          "height": 35
        }
      },
      "source": [
        "#計算する\n",
        "2*(3+4)"
      ],
      "execution_count": 0,
      "outputs": [
        {
          "output_type": "execute_result",
          "data": {
            "text/plain": [
              "14"
            ]
          },
          "metadata": {
            "tags": []
          },
          "execution_count": 1
        }
      ]
    },
    {
      "cell_type": "markdown",
      "metadata": {
        "id": "XresrTo9rwvY",
        "colab_type": "text"
      },
      "source": [
        "*出力してまめしょう*\n",
        "```\n",
        "First value :1\n",
        "```"
      ]
    },
    {
      "cell_type": "code",
      "metadata": {
        "id": "FEmvg4tBsr-0",
        "colab_type": "code",
        "outputId": "351906ff-13b2-49a3-e12c-45abb62de001",
        "colab": {
          "base_uri": "https://localhost:8080/",
          "height": 35
        }
      },
      "source": [
        "'''\n",
        "値を出力する\n",
        "'''\n",
        "print('First value:',1)"
      ],
      "execution_count": 0,
      "outputs": [
        {
          "output_type": "stream",
          "text": [
            "First value: 1\n"
          ],
          "name": "stdout"
        }
      ]
    },
    {
      "cell_type": "markdown",
      "metadata": {
        "id": "6fVLJUR6tj1e",
        "colab_type": "text"
      },
      "source": [
        "**`sort`の関数を呼び出す**\n",
        "\n",
        "1.以下のリストを作る\n",
        "\n",
        "```\n",
        "Numbers = [4,3,2,1]\n",
        "```\n",
        "2.`sort()`の関数を使って、リストをソートする。\n",
        "\n",
        "3.`print`を使って、出力する。"
      ]
    },
    {
      "cell_type": "code",
      "metadata": {
        "id": "fTnuPsL6vX4n",
        "colab_type": "code",
        "outputId": "7754318a-32fd-44df-e35c-594cc063da23",
        "colab": {
          "base_uri": "https://localhost:8080/",
          "height": 35
        }
      },
      "source": [
        "Numbers = [4,3,2,1]\n",
        "Numbers.sort()\n",
        "print(Numbers)"
      ],
      "execution_count": 0,
      "outputs": [
        {
          "output_type": "stream",
          "text": [
            "[1, 2, 3, 4]\n"
          ],
          "name": "stdout"
        }
      ]
    }
  ]
}